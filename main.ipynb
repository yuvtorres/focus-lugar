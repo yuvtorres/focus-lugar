{
 "cells": [
  {
   "cell_type": "markdown",
   "metadata": {},
   "source": [
    "# Objective function `the best place for the company to grow`"
   ]
  },
  {
   "cell_type": "code",
   "execution_count": 1,
   "metadata": {},
   "outputs": [],
   "source": [
    "# Objective function ->\n",
    "\n",
    "# X (var independient): Val_by_place Each place will be assigned with a value in each component (9 x 1)\n",
    "\n",
    "Val_by_place={\"other Design companies\":0,\n",
    "         \"kindergarden\":0,\n",
    "         \"success startup\":0,\n",
    "         \"Starbucks\":0,\n",
    "         \"Airport_or_train_station\":0,\n",
    "         \"place_to party\":0,\n",
    "         \"basqueball court\":0,\n",
    "         \"no_2km_old_company\":0,\n",
    "         \"vegan_restaurant\":0}\n",
    "\n",
    "# Constants:\n",
    "# Total personal (9 x 1)\n",
    "Personal={\"Designers\":20,\n",
    "         \"UI/UX Engineers\":5,\n",
    "         \"Frontend Developers\":10,\n",
    "         \"Data Engineers\":15,\n",
    "         \"Backend Developers\":15,\n",
    "         \"Account Managers\":20,\n",
    "         \"Maintenance guy\":1,\n",
    "         \"Executives\":10,\n",
    "         \"CEO/President\":1}\n",
    "\n",
    "# Valoration of the contribution to grow by role (9 x 1)\n",
    "Val_to_grow={\"Designers\":5,\n",
    "         \"UI/UX Engineers\":5,\n",
    "         \"Frontend Developers\":5,\n",
    "         \"Data Engineers\":5,\n",
    "         \"Backend Developers\":5,\n",
    "         \"Account Managers\":7,\n",
    "         \"Maintenance guy\":3,\n",
    "         \"Executives\":8,\n",
    "         \"CEO/President\":10}\n",
    "\n",
    "# Rel_personal_Val_place represent the relation between condition and personal (9 x 9)\n",
    "\n",
    "Rel_personal_Val_place =[\n",
    "    [1,0,0,0,0,0,0,0,0], # other Design companies -> Designers\n",
    "    [0.3,0.3,0.3,0.3,0.3,0.3,0.3,0.3,0.3], # kindergarden -> 30% of the personal\n",
    "    [0,1,1,1,1,0,0,0,0], # success startup\n",
    "    [0,0,0,0,0,0,0,1,0], # Starbucks\n",
    "    [0,0,0,0,0,1,0,0,0], # airport..\n",
    "    [1,1,1,1,1,1,1,1,1], # place to party\n",
    "    [0,0,0,0,0,0,1,0,0], # Basquetball court   \n",
    "    [1,1,1,1,1,1,1,1,1], # No old company (10 years)\n",
    "    [0,0,0,0,0,0,0,0,1], # vegan restauran\n",
    "]\n",
    "\n",
    "# Any places will be valuated with the next equation:\n",
    "#               constant                              Independient Variable\n",
    "# F = (Personal * Val_to_grow * Rel_personal_Val_place) * Val_by_place"
   ]
  },
  {
   "cell_type": "markdown",
   "metadata": {},
   "source": [
    "### Other design companies"
   ]
  },
  {
   "cell_type": "code",
   "execution_count": 2,
   "metadata": {},
   "outputs": [],
   "source": [
    "import json\n",
    "from pymongo import MongoClient\n",
    "url_mongo=\"mongodb://localhost:27017\"\n",
    "client = MongoClient(url_mongo)\n",
    "db = client.get_database(\"companies\")\n",
    "result=list(db.companies.find({},{\"category_code\":1,\"_id\":0}))\n",
    "categories=[e['category_code'] for e in result]"
   ]
  },
  {
   "cell_type": "code",
   "execution_count": 3,
   "metadata": {
    "scrolled": true
   },
   "outputs": [
    {
     "data": {
      "text/plain": [
       "3787"
      ]
     },
     "execution_count": 3,
     "metadata": {},
     "output_type": "execute_result"
    }
   ],
   "source": [
    "import pandas as pd\n",
    "import numpy as np\n",
    "categorias= pd.DataFrame(categories)\n",
    "categorias=categorias.rename(columns={0:\"categoria\"})\n",
    "len(categorias.categoria.value_counts())# -->  41 categories\n",
    "len(categorias.categoria[categorias.categoria==\"design\"]) # just 4 companies!!\n",
    "len(categorias.categoria[categorias.categoria==\"web\"]) # 3787.. is web equivalent to design?"
   ]
  },
  {
   "cell_type": "code",
   "execution_count": 4,
   "metadata": {},
   "outputs": [],
   "source": [
    "query={\"$or\":[{\"category_code\":\"design\"},{\"category_code\":\"web\"}]}\n",
    "offices=list(db.companies.find(query,{\"name\":1,\"offices\":1,\"_id\":0}))\n",
    "offices=pd.DataFrame(offices)\n",
    "offices=offices.explode(\"offices\")"
   ]
  },
  {
   "cell_type": "code",
   "execution_count": 5,
   "metadata": {},
   "outputs": [
    {
     "name": "stdout",
     "output_type": "stream",
     "text": [
      "<class 'pandas.core.frame.DataFrame'>\n"
     ]
    }
   ],
   "source": [
    "def json_column(row):\n",
    "    of=row.offices\n",
    "    if type(of)==float or of[\"latitude\"] is None:\n",
    "        return (\"theres is no data \",None, None)\n",
    "    return (\"success\",of[\"latitude\"] ,of[\"longitude\"])\n",
    "\n",
    "offices_coor=offices.apply(json_column, axis=1, result_type='expand')\n",
    "print(type(offices))\n",
    "offices_coor_name = pd.concat([offices.name,offices_coor])"
   ]
  },
  {
   "cell_type": "code",
   "execution_count": 6,
   "metadata": {},
   "outputs": [],
   "source": [
    "offices_coor_name=offices_coor_name.rename(columns={0:'State_coor',1:'latitude',2:'longitud'} )\n",
    "offices_coor_name=offices_coor_name[offices_coor_name['State_coor']==\"success\"] # 2331 compnies with coordenates\n"
   ]
  },
  {
   "cell_type": "code",
   "execution_count": 14,
   "metadata": {},
   "outputs": [],
   "source": [
    "def coor_jgeo(row):\n",
    "     return {'type':'Point','coordinates':[row['longitud'],row['latitude']]}\n",
    "\n",
    "offices_coor_name['design_coor']=offices_coor_name.apply(coor_jgeo,axis=1)"
   ]
  },
  {
   "cell_type": "code",
   "execution_count": 15,
   "metadata": {},
   "outputs": [
    {
     "data": {
      "text/html": [
       "<div>\n",
       "<style scoped>\n",
       "    .dataframe tbody tr th:only-of-type {\n",
       "        vertical-align: middle;\n",
       "    }\n",
       "\n",
       "    .dataframe tbody tr th {\n",
       "        vertical-align: top;\n",
       "    }\n",
       "\n",
       "    .dataframe thead th {\n",
       "        text-align: right;\n",
       "    }\n",
       "</style>\n",
       "<table border=\"1\" class=\"dataframe\">\n",
       "  <thead>\n",
       "    <tr style=\"text-align: right;\">\n",
       "      <th></th>\n",
       "      <th>State_coor</th>\n",
       "      <th>latitude</th>\n",
       "      <th>longitud</th>\n",
       "      <th>design_coor</th>\n",
       "    </tr>\n",
       "  </thead>\n",
       "  <tbody>\n",
       "    <tr>\n",
       "      <th>0</th>\n",
       "      <td>success</td>\n",
       "      <td>47.603122</td>\n",
       "      <td>-122.333253</td>\n",
       "      <td>{'type': 'Point', 'coordinates': [-122.333253,...</td>\n",
       "    </tr>\n",
       "    <tr>\n",
       "      <th>0</th>\n",
       "      <td>success</td>\n",
       "      <td>40.723731</td>\n",
       "      <td>-73.996431</td>\n",
       "      <td>{'type': 'Point', 'coordinates': [-73.9964312,...</td>\n",
       "    </tr>\n",
       "    <tr>\n",
       "      <th>1</th>\n",
       "      <td>success</td>\n",
       "      <td>37.506885</td>\n",
       "      <td>-122.247573</td>\n",
       "      <td>{'type': 'Point', 'coordinates': [-122.247573,...</td>\n",
       "    </tr>\n",
       "    <tr>\n",
       "      <th>2</th>\n",
       "      <td>success</td>\n",
       "      <td>34.090368</td>\n",
       "      <td>-118.393064</td>\n",
       "      <td>{'type': 'Point', 'coordinates': [-118.393064,...</td>\n",
       "    </tr>\n",
       "    <tr>\n",
       "      <th>3</th>\n",
       "      <td>success</td>\n",
       "      <td>34.076179</td>\n",
       "      <td>-118.394170</td>\n",
       "      <td>{'type': 'Point', 'coordinates': [-118.39417, ...</td>\n",
       "    </tr>\n",
       "    <tr>\n",
       "      <th>...</th>\n",
       "      <td>...</td>\n",
       "      <td>...</td>\n",
       "      <td>...</td>\n",
       "      <td>...</td>\n",
       "    </tr>\n",
       "    <tr>\n",
       "      <th>3769</th>\n",
       "      <td>success</td>\n",
       "      <td>47.631518</td>\n",
       "      <td>-122.129504</td>\n",
       "      <td>{'type': 'Point', 'coordinates': [-122.1295044...</td>\n",
       "    </tr>\n",
       "    <tr>\n",
       "      <th>3770</th>\n",
       "      <td>success</td>\n",
       "      <td>47.631518</td>\n",
       "      <td>-122.129504</td>\n",
       "      <td>{'type': 'Point', 'coordinates': [-122.1295044...</td>\n",
       "    </tr>\n",
       "    <tr>\n",
       "      <th>3774</th>\n",
       "      <td>success</td>\n",
       "      <td>40.756054</td>\n",
       "      <td>-73.986951</td>\n",
       "      <td>{'type': 'Point', 'coordinates': [-73.986951, ...</td>\n",
       "    </tr>\n",
       "    <tr>\n",
       "      <th>3779</th>\n",
       "      <td>success</td>\n",
       "      <td>59.617364</td>\n",
       "      <td>16.559539</td>\n",
       "      <td>{'type': 'Point', 'coordinates': [16.5595393, ...</td>\n",
       "    </tr>\n",
       "    <tr>\n",
       "      <th>3783</th>\n",
       "      <td>success</td>\n",
       "      <td>35.896906</td>\n",
       "      <td>-78.680678</td>\n",
       "      <td>{'type': 'Point', 'coordinates': [-78.6806784,...</td>\n",
       "    </tr>\n",
       "  </tbody>\n",
       "</table>\n",
       "<p>2311 rows × 4 columns</p>\n",
       "</div>"
      ],
      "text/plain": [
       "     State_coor   latitude    longitud  \\\n",
       "0       success  47.603122 -122.333253   \n",
       "0       success  40.723731  -73.996431   \n",
       "1       success  37.506885 -122.247573   \n",
       "2       success  34.090368 -118.393064   \n",
       "3       success  34.076179 -118.394170   \n",
       "...         ...        ...         ...   \n",
       "3769    success  47.631518 -122.129504   \n",
       "3770    success  47.631518 -122.129504   \n",
       "3774    success  40.756054  -73.986951   \n",
       "3779    success  59.617364   16.559539   \n",
       "3783    success  35.896906  -78.680678   \n",
       "\n",
       "                                            design_coor  \n",
       "0     {'type': 'Point', 'coordinates': [-122.333253,...  \n",
       "0     {'type': 'Point', 'coordinates': [-73.9964312,...  \n",
       "1     {'type': 'Point', 'coordinates': [-122.247573,...  \n",
       "2     {'type': 'Point', 'coordinates': [-118.393064,...  \n",
       "3     {'type': 'Point', 'coordinates': [-118.39417, ...  \n",
       "...                                                 ...  \n",
       "3769  {'type': 'Point', 'coordinates': [-122.1295044...  \n",
       "3770  {'type': 'Point', 'coordinates': [-122.1295044...  \n",
       "3774  {'type': 'Point', 'coordinates': [-73.986951, ...  \n",
       "3779  {'type': 'Point', 'coordinates': [16.5595393, ...  \n",
       "3783  {'type': 'Point', 'coordinates': [-78.6806784,...  \n",
       "\n",
       "[2311 rows x 4 columns]"
      ]
     },
     "execution_count": 15,
     "metadata": {},
     "output_type": "execute_result"
    }
   ],
   "source": [
    "offices_coor_name"
   ]
  },
  {
   "cell_type": "code",
   "execution_count": 16,
   "metadata": {},
   "outputs": [],
   "source": [
    "offices_coor_name.to_json('output/design.json',orient=\"records\")"
   ]
  },
  {
   "cell_type": "markdown",
   "metadata": {},
   "source": [
    "### Success startup"
   ]
  },
  {
   "cell_type": "code",
   "execution_count": null,
   "metadata": {},
   "outputs": [],
   "source": [
    "query={\"$where\":[{\"category_code\":\"design\"},{\"category_code\":\"web\"}]}\n",
    "\n",
    "offices=list(db.companies.find(query,{\"name\":1,\"offices\":1,\"_id\":0}))\n",
    "offices=pd.DataFrame(offices)\n",
    "offices=offices.explode(\"offices\")"
   ]
  }
 ],
 "metadata": {
  "kernelspec": {
   "display_name": "Python 3",
   "language": "python",
   "name": "python3"
  },
  "language_info": {
   "codemirror_mode": {
    "name": "ipython",
    "version": 3
   },
   "file_extension": ".py",
   "mimetype": "text/x-python",
   "name": "python",
   "nbconvert_exporter": "python",
   "pygments_lexer": "ipython3",
   "version": "3.6.9"
  }
 },
 "nbformat": 4,
 "nbformat_minor": 2
}
