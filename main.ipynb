{
 "cells": [
  {
   "cell_type": "markdown",
   "metadata": {},
   "source": [
    "# Objective function `the best place for the company to grow`"
   ]
  },
  {
   "cell_type": "markdown",
   "metadata": {},
   "source": [
    "##### Objective function ->\n",
    "\n",
    "X (var independient): Val_by_place Each place will be assigned with a value in each component (9 x 1)\n",
    "\n",
    "Constants: \n",
    "     - Total personal (9 x 1)\n",
    "     - Valoration of the contribution to grow by role (9 x 1)\n",
    "     - Rel_personal_Val_place represent the relation between condition and personal (9 x 9)\n",
    "\n",
    "Any places will be valuated with the next equation:\n",
    "\n",
    "             `Constants`                      `Independient Variable`\n",
    "\n",
    "F   =    (   Personal   *   Val_to_grow   *   Rel_personal_Val_place  )    *    Val_by_place"
   ]
  },
  {
   "cell_type": "code",
   "execution_count": 1,
   "metadata": {},
   "outputs": [],
   "source": [
    "import numpy as np\n",
    "import json\n",
    "from pymongo import MongoClient\n",
    "import pandas as pd\n",
    "\n",
    "import sys\n",
    "sys.path.insert(0, 'src/')\n",
    "\n",
    "from funobjetivo import valor\n"
   ]
  },
  {
   "cell_type": "code",
   "execution_count": 2,
   "metadata": {},
   "outputs": [
    {
     "data": {
      "text/plain": [
       "2255.75"
      ]
     },
     "execution_count": 2,
     "metadata": {},
     "output_type": "execute_result"
    }
   ],
   "source": [
    "# Example of using function objective\n",
    "Val_by_place={\"other Design companies\":0.1,\n",
    "         \"kindergarden\":0.2,\n",
    "         \"success startup\":0.5,\n",
    "         \"Starbucks\":1,\n",
    "         \"Airport_or_train_station\":2,\n",
    "         \"place_to party\":2,\n",
    "         \"basqueball court\":1,\n",
    "         \"no_2km_old_company\":0.8,\n",
    "         \"vegan_restaurant\":0.5}\n",
    "\n",
    "valor(**Val_by_place)"
   ]
  },
  {
   "cell_type": "markdown",
   "metadata": {},
   "source": [
    "# Getting data"
   ]
  },
  {
   "cell_type": "markdown",
   "metadata": {},
   "source": [
    "## Other design companies"
   ]
  },
  {
   "cell_type": "code",
   "execution_count": 3,
   "metadata": {},
   "outputs": [],
   "source": [
    "# Connect and get the data --> Categories\n",
    "url_mongo=\"mongodb://localhost:27017\"\n",
    "client = MongoClient(url_mongo)\n",
    "db = client.get_database(\"companies\")\n",
    "result=list(db.companies.find({},{\"category_code\":1,\"_id\":0}))\n",
    "categories=[e['category_code'] for e in result]"
   ]
  },
  {
   "cell_type": "code",
   "execution_count": 4,
   "metadata": {
    "scrolled": true
   },
   "outputs": [
    {
     "data": {
      "text/plain": [
       "3787"
      ]
     },
     "execution_count": 4,
     "metadata": {},
     "output_type": "execute_result"
    }
   ],
   "source": [
    "# Count the number of design comanies and include Web \n",
    "categorias= pd.DataFrame(categories)\n",
    "categorias=categorias.rename(columns={0:\"categoria\"})\n",
    "len(categorias.categoria.value_counts())\n",
    "# -->  41 categories\n",
    "len(categorias.categoria[categorias.categoria==\"design\"]) \n",
    "# --> just 4 companies!!\n",
    "len(categorias.categoria[categorias.categoria==\"web\"]) \n",
    "# --> 3787.. is web companies equivalent to design \n",
    "#     companies in this context?"
   ]
  },
  {
   "cell_type": "code",
   "execution_count": 5,
   "metadata": {
    "scrolled": true
   },
   "outputs": [
    {
     "data": {
      "text/html": [
       "<div>\n",
       "<style scoped>\n",
       "    .dataframe tbody tr th:only-of-type {\n",
       "        vertical-align: middle;\n",
       "    }\n",
       "\n",
       "    .dataframe tbody tr th {\n",
       "        vertical-align: top;\n",
       "    }\n",
       "\n",
       "    .dataframe thead th {\n",
       "        text-align: right;\n",
       "    }\n",
       "</style>\n",
       "<table border=\"1\" class=\"dataframe\">\n",
       "  <thead>\n",
       "    <tr style=\"text-align: right;\">\n",
       "      <th></th>\n",
       "      <th>name</th>\n",
       "      <th>offices</th>\n",
       "    </tr>\n",
       "  </thead>\n",
       "  <tbody>\n",
       "    <tr>\n",
       "      <th>0</th>\n",
       "      <td>Wetpaint</td>\n",
       "      <td>{'description': '', 'address1': '710 - 2nd Ave...</td>\n",
       "    </tr>\n",
       "    <tr>\n",
       "      <th>0</th>\n",
       "      <td>Wetpaint</td>\n",
       "      <td>{'description': '', 'address1': '270 Lafayette...</td>\n",
       "    </tr>\n",
       "    <tr>\n",
       "      <th>1</th>\n",
       "      <td>Postini</td>\n",
       "      <td>{'description': None, 'address1': '959 Skyway ...</td>\n",
       "    </tr>\n",
       "    <tr>\n",
       "      <th>2</th>\n",
       "      <td>Geni</td>\n",
       "      <td>{'description': 'Headquarters', 'address1': '9...</td>\n",
       "    </tr>\n",
       "    <tr>\n",
       "      <th>3</th>\n",
       "      <td>Fox Interactive Media</td>\n",
       "      <td>{'description': '', 'address1': '407 N Maple D...</td>\n",
       "    </tr>\n",
       "    <tr>\n",
       "      <th>...</th>\n",
       "      <td>...</td>\n",
       "      <td>...</td>\n",
       "    </tr>\n",
       "    <tr>\n",
       "      <th>3786</th>\n",
       "      <td>iGuiders</td>\n",
       "      <td>{'description': '', 'address1': '23811 Chagrin...</td>\n",
       "    </tr>\n",
       "    <tr>\n",
       "      <th>3787</th>\n",
       "      <td>Zoomission</td>\n",
       "      <td>NaN</td>\n",
       "    </tr>\n",
       "    <tr>\n",
       "      <th>3788</th>\n",
       "      <td>Eazeeloans</td>\n",
       "      <td>{'description': 'Apex Finance &amp; Marketing', 'a...</td>\n",
       "    </tr>\n",
       "    <tr>\n",
       "      <th>3789</th>\n",
       "      <td>DocASAP</td>\n",
       "      <td>{'description': '', 'address1': '115 5th Ave',...</td>\n",
       "    </tr>\n",
       "    <tr>\n",
       "      <th>3790</th>\n",
       "      <td>goBookmaker</td>\n",
       "      <td>NaN</td>\n",
       "    </tr>\n",
       "  </tbody>\n",
       "</table>\n",
       "<p>4060 rows × 2 columns</p>\n",
       "</div>"
      ],
      "text/plain": [
       "                       name                                            offices\n",
       "0                  Wetpaint  {'description': '', 'address1': '710 - 2nd Ave...\n",
       "0                  Wetpaint  {'description': '', 'address1': '270 Lafayette...\n",
       "1                   Postini  {'description': None, 'address1': '959 Skyway ...\n",
       "2                      Geni  {'description': 'Headquarters', 'address1': '9...\n",
       "3     Fox Interactive Media  {'description': '', 'address1': '407 N Maple D...\n",
       "...                     ...                                                ...\n",
       "3786               iGuiders  {'description': '', 'address1': '23811 Chagrin...\n",
       "3787             Zoomission                                                NaN\n",
       "3788             Eazeeloans  {'description': 'Apex Finance & Marketing', 'a...\n",
       "3789                DocASAP  {'description': '', 'address1': '115 5th Ave',...\n",
       "3790            goBookmaker                                                NaN\n",
       "\n",
       "[4060 rows x 2 columns]"
      ]
     },
     "execution_count": 5,
     "metadata": {},
     "output_type": "execute_result"
    }
   ],
   "source": [
    "# Getting the ubication of the offices of design and web companies\n",
    "query={\"$or\":[{\"category_code\":\"design\"},{\"category_code\":\"web\"}]}\n",
    "offices=list(db.companies.find(query,{\"name\":1,\"offices\":1,\"_id\":0}))\n",
    "offices=pd.DataFrame(offices)\n",
    "offices=offices.explode(\"offices\")\n",
    "offices"
   ]
  },
  {
   "cell_type": "code",
   "execution_count": 6,
   "metadata": {},
   "outputs": [
    {
     "data": {
      "text/html": [
       "<div>\n",
       "<style scoped>\n",
       "    .dataframe tbody tr th:only-of-type {\n",
       "        vertical-align: middle;\n",
       "    }\n",
       "\n",
       "    .dataframe tbody tr th {\n",
       "        vertical-align: top;\n",
       "    }\n",
       "\n",
       "    .dataframe thead th {\n",
       "        text-align: right;\n",
       "    }\n",
       "</style>\n",
       "<table border=\"1\" class=\"dataframe\">\n",
       "  <thead>\n",
       "    <tr style=\"text-align: right;\">\n",
       "      <th></th>\n",
       "      <th>0</th>\n",
       "      <th>1</th>\n",
       "      <th>2</th>\n",
       "      <th>3</th>\n",
       "    </tr>\n",
       "  </thead>\n",
       "  <tbody>\n",
       "    <tr>\n",
       "      <th>0</th>\n",
       "      <td>Wetpaint</td>\n",
       "      <td>success</td>\n",
       "      <td>47.603122</td>\n",
       "      <td>-122.333253</td>\n",
       "    </tr>\n",
       "    <tr>\n",
       "      <th>0</th>\n",
       "      <td>Wetpaint</td>\n",
       "      <td>success</td>\n",
       "      <td>40.723731</td>\n",
       "      <td>-73.996431</td>\n",
       "    </tr>\n",
       "    <tr>\n",
       "      <th>1</th>\n",
       "      <td>Postini</td>\n",
       "      <td>success</td>\n",
       "      <td>37.506885</td>\n",
       "      <td>-122.247573</td>\n",
       "    </tr>\n",
       "    <tr>\n",
       "      <th>2</th>\n",
       "      <td>Geni</td>\n",
       "      <td>success</td>\n",
       "      <td>34.090368</td>\n",
       "      <td>-118.393064</td>\n",
       "    </tr>\n",
       "    <tr>\n",
       "      <th>3</th>\n",
       "      <td>Fox Interactive Media</td>\n",
       "      <td>success</td>\n",
       "      <td>34.076179</td>\n",
       "      <td>-118.394170</td>\n",
       "    </tr>\n",
       "    <tr>\n",
       "      <th>...</th>\n",
       "      <td>...</td>\n",
       "      <td>...</td>\n",
       "      <td>...</td>\n",
       "      <td>...</td>\n",
       "    </tr>\n",
       "    <tr>\n",
       "      <th>3786</th>\n",
       "      <td>iGuiders</td>\n",
       "      <td>theres is no data</td>\n",
       "      <td>NaN</td>\n",
       "      <td>NaN</td>\n",
       "    </tr>\n",
       "    <tr>\n",
       "      <th>3787</th>\n",
       "      <td>Zoomission</td>\n",
       "      <td>theres is no data</td>\n",
       "      <td>NaN</td>\n",
       "      <td>NaN</td>\n",
       "    </tr>\n",
       "    <tr>\n",
       "      <th>3788</th>\n",
       "      <td>Eazeeloans</td>\n",
       "      <td>theres is no data</td>\n",
       "      <td>NaN</td>\n",
       "      <td>NaN</td>\n",
       "    </tr>\n",
       "    <tr>\n",
       "      <th>3789</th>\n",
       "      <td>DocASAP</td>\n",
       "      <td>theres is no data</td>\n",
       "      <td>NaN</td>\n",
       "      <td>NaN</td>\n",
       "    </tr>\n",
       "    <tr>\n",
       "      <th>3790</th>\n",
       "      <td>goBookmaker</td>\n",
       "      <td>theres is no data</td>\n",
       "      <td>NaN</td>\n",
       "      <td>NaN</td>\n",
       "    </tr>\n",
       "  </tbody>\n",
       "</table>\n",
       "<p>4060 rows × 4 columns</p>\n",
       "</div>"
      ],
      "text/plain": [
       "                          0                   1          2           3\n",
       "0                  Wetpaint             success  47.603122 -122.333253\n",
       "0                  Wetpaint             success  40.723731  -73.996431\n",
       "1                   Postini             success  37.506885 -122.247573\n",
       "2                      Geni             success  34.090368 -118.393064\n",
       "3     Fox Interactive Media             success  34.076179 -118.394170\n",
       "...                     ...                 ...        ...         ...\n",
       "3786               iGuiders  theres is no data         NaN         NaN\n",
       "3787             Zoomission  theres is no data         NaN         NaN\n",
       "3788             Eazeeloans  theres is no data         NaN         NaN\n",
       "3789                DocASAP  theres is no data         NaN         NaN\n",
       "3790            goBookmaker  theres is no data         NaN         NaN\n",
       "\n",
       "[4060 rows x 4 columns]"
      ]
     },
     "execution_count": 6,
     "metadata": {},
     "output_type": "execute_result"
    }
   ],
   "source": [
    "# Extracting Lat an Long\n",
    "def json_column(row):\n",
    "    of=row.offices\n",
    "    if type(of)==float or of[\"latitude\"] is None:\n",
    "        return (row['name'],\"theres is no data \",None, None)\n",
    "    return (row['name'],\"success\",of[\"latitude\"] ,of[\"longitude\"])\n",
    "\n",
    "offices_coor_name = offices.apply(json_column, axis=1, result_type='expand')\n",
    "offices_coor_name# = pd.concat([offices.name,offices_coor])"
   ]
  },
  {
   "cell_type": "code",
   "execution_count": 7,
   "metadata": {},
   "outputs": [],
   "source": [
    "offices_coor_name=offices_coor_name.rename(columns={0:'name',1:'State_coor',2:'latitude',3:'longitud'} )\n",
    "offices_coor_name=offices_coor_name[offices_coor_name['State_coor']==\"success\"] \n",
    "# --> 2311 companies with coordenates"
   ]
  },
  {
   "cell_type": "code",
   "execution_count": 8,
   "metadata": {},
   "outputs": [],
   "source": [
    "# Setting the format for MongoDB index\n",
    "def coor_jgeo(row):\n",
    "     return {'type':'Point','coordinates':[row['longitud'],row['latitude']]}\n",
    "\n",
    "offices_coor_name['design_coor']=offices_coor_name.apply(coor_jgeo,axis=1)"
   ]
  },
  {
   "cell_type": "code",
   "execution_count": 9,
   "metadata": {},
   "outputs": [],
   "source": [
    "offices_coor_name.to_json('output/design.json',orient=\"records\")"
   ]
  },
  {
   "cell_type": "markdown",
   "metadata": {},
   "source": [
    "## Success startup"
   ]
  },
  {
   "cell_type": "code",
   "execution_count": 10,
   "metadata": {},
   "outputs": [],
   "source": [
    "# Query for getting the rounds data\n",
    "query={\"funding_rounds.0.raised_amount\":{\"$gt\":0}}\n",
    "\n",
    "fund=list(db.companies.find(query,{\"name\":1,\"funding_rounds\":1,\"_id\":0}))\n",
    "fund=pd.DataFrame(fund)\n",
    "fund=fund.explode(\"funding_rounds\") # several rounds..."
   ]
  },
  {
   "cell_type": "code",
   "execution_count": 11,
   "metadata": {},
   "outputs": [],
   "source": [
    "# Creating columns or Raised amount and currency\n",
    "def extract_round(var):\n",
    "    return var['raised_amount']\n",
    "\n",
    "def extract_currency(var):\n",
    "    return var['raised_currency_code']\n",
    "\n",
    "fund['val_round']=fund.funding_rounds.apply(extract_round)\n",
    "fund['val_currency']=fund.funding_rounds.apply(extract_currency)"
   ]
  },
  {
   "cell_type": "code",
   "execution_count": 12,
   "metadata": {},
   "outputs": [
    {
     "data": {
      "text/html": [
       "<div>\n",
       "<style scoped>\n",
       "    .dataframe tbody tr th:only-of-type {\n",
       "        vertical-align: middle;\n",
       "    }\n",
       "\n",
       "    .dataframe tbody tr th {\n",
       "        vertical-align: top;\n",
       "    }\n",
       "\n",
       "    .dataframe thead th {\n",
       "        text-align: right;\n",
       "    }\n",
       "</style>\n",
       "<table border=\"1\" class=\"dataframe\">\n",
       "  <thead>\n",
       "    <tr style=\"text-align: right;\">\n",
       "      <th></th>\n",
       "      <th>name</th>\n",
       "      <th>funding_rounds</th>\n",
       "      <th>val_round</th>\n",
       "    </tr>\n",
       "    <tr>\n",
       "      <th>val_currency</th>\n",
       "      <th></th>\n",
       "      <th></th>\n",
       "      <th></th>\n",
       "    </tr>\n",
       "  </thead>\n",
       "  <tbody>\n",
       "    <tr>\n",
       "      <th>CAD</th>\n",
       "      <td>43</td>\n",
       "      <td>43</td>\n",
       "      <td>43</td>\n",
       "    </tr>\n",
       "    <tr>\n",
       "      <th>EUR</th>\n",
       "      <td>336</td>\n",
       "      <td>336</td>\n",
       "      <td>336</td>\n",
       "    </tr>\n",
       "    <tr>\n",
       "      <th>GBP</th>\n",
       "      <td>151</td>\n",
       "      <td>151</td>\n",
       "      <td>151</td>\n",
       "    </tr>\n",
       "    <tr>\n",
       "      <th>JPY</th>\n",
       "      <td>12</td>\n",
       "      <td>12</td>\n",
       "      <td>12</td>\n",
       "    </tr>\n",
       "    <tr>\n",
       "      <th>SEK</th>\n",
       "      <td>1</td>\n",
       "      <td>1</td>\n",
       "      <td>1</td>\n",
       "    </tr>\n",
       "    <tr>\n",
       "      <th>USD</th>\n",
       "      <td>10145</td>\n",
       "      <td>10145</td>\n",
       "      <td>10003</td>\n",
       "    </tr>\n",
       "  </tbody>\n",
       "</table>\n",
       "</div>"
      ],
      "text/plain": [
       "               name  funding_rounds  val_round\n",
       "val_currency                                  \n",
       "CAD              43              43         43\n",
       "EUR             336             336        336\n",
       "GBP             151             151        151\n",
       "JPY              12              12         12\n",
       "SEK               1               1          1\n",
       "USD           10145           10145      10003"
      ]
     },
     "execution_count": 12,
     "metadata": {},
     "output_type": "execute_result"
    }
   ],
   "source": [
    "# Currencies of the Rounds\n",
    "fund.groupby(['val_currency']).count()"
   ]
  },
  {
   "cell_type": "code",
   "execution_count": 13,
   "metadata": {},
   "outputs": [],
   "source": [
    "# Creating the rounds in USD--> (average currency exchange last 5Y)\n",
    "def calculate_usd(row):\n",
    "    if row['val_round'] is None or row['val_currency'] is None:\n",
    "        return 0\n",
    "    \n",
    "    currecy_equi={'CAD':0.8,'EUR':1.2,'GBP':1.5,'JPY':0.01,'SEK':0.15,'USD':1}\n",
    "    val=row['val_round'] * currecy_equi[row['val_currency']]\n",
    "\n",
    "    return val\n",
    "\n",
    "fund['Val_round_USD']=fund.apply(calculate_usd,axis=1)"
   ]
  },
  {
   "cell_type": "markdown",
   "metadata": {},
   "source": [
    "Here we have the startups that have funds greater than 1 million dollars"
   ]
  },
  {
   "cell_type": "code",
   "execution_count": 14,
   "metadata": {},
   "outputs": [],
   "source": [
    "fund=fund[['name','Val_round_USD']].groupby(['name']).sum()\n",
    "fund=fund.loc[fund.Val_round_USD>1e6]\n",
    "# --> 3686 companies with more than a millon raised"
   ]
  },
  {
   "cell_type": "markdown",
   "metadata": {},
   "source": [
    "##### Now find the Lat Long"
   ]
  },
  {
   "cell_type": "code",
   "execution_count": 15,
   "metadata": {},
   "outputs": [],
   "source": [
    "query={\"funding_rounds.0.raised_amount\":{\"$gt\":0}}\n",
    "\n",
    "ss_point=list(db.companies.find(query,{\"name\":1,\"offices\":1,\"_id\":0}))\n",
    "ss_point=pd.DataFrame(ss_point)\n",
    "ss_point=ss_point.explode('offices')"
   ]
  },
  {
   "cell_type": "code",
   "execution_count": 16,
   "metadata": {},
   "outputs": [
    {
     "data": {
      "text/plain": [
       "success               3815\n",
       "theres is no data     2193\n",
       "Name: State_coor, dtype: int64"
      ]
     },
     "execution_count": 16,
     "metadata": {},
     "output_type": "execute_result"
    }
   ],
   "source": [
    "ss_coor=ss_point.apply(json_column, axis=1, result_type='expand')\n",
    "ss_coor=ss_coor.rename(columns={0:'name',1:'State_coor',2:'latitude',3:'longitud'} )\n",
    "ss_coor.State_coor.value_counts()"
   ]
  },
  {
   "cell_type": "code",
   "execution_count": 17,
   "metadata": {},
   "outputs": [
    {
     "data": {
      "text/plain": [
       "Index(['name', 'State_coor', 'latitude', 'longitud'], dtype='object')"
      ]
     },
     "execution_count": 17,
     "metadata": {},
     "output_type": "execute_result"
    }
   ],
   "source": [
    "ss_coor=ss_coor.loc[ss_coor.State_coor==\"success\"]\n",
    "# --> 3815 points of succesful companies\n",
    "ss_coor.columns"
   ]
  },
  {
   "cell_type": "code",
   "execution_count": 18,
   "metadata": {},
   "outputs": [],
   "source": [
    "# Setting the format for MongoDB index and export json\n",
    "ss_coor['success_coor']=ss_coor.apply(coor_jgeo,axis=1)\n",
    "ss_coor.to_json('output/success.json',orient=\"records\")"
   ]
  },
  {
   "cell_type": "markdown",
   "metadata": {},
   "source": [
    "## Old Companies"
   ]
  },
  {
   "cell_type": "code",
   "execution_count": 19,
   "metadata": {},
   "outputs": [
    {
     "data": {
      "text/html": [
       "<div>\n",
       "<style scoped>\n",
       "    .dataframe tbody tr th:only-of-type {\n",
       "        vertical-align: middle;\n",
       "    }\n",
       "\n",
       "    .dataframe tbody tr th {\n",
       "        vertical-align: top;\n",
       "    }\n",
       "\n",
       "    .dataframe thead th {\n",
       "        text-align: right;\n",
       "    }\n",
       "</style>\n",
       "<table border=\"1\" class=\"dataframe\">\n",
       "  <thead>\n",
       "    <tr style=\"text-align: right;\">\n",
       "      <th></th>\n",
       "      <th>name</th>\n",
       "      <th>offices</th>\n",
       "    </tr>\n",
       "  </thead>\n",
       "  <tbody>\n",
       "    <tr>\n",
       "      <th>0</th>\n",
       "      <td>AdventNet</td>\n",
       "      <td>{'description': 'Headquarters', 'address1': '4...</td>\n",
       "    </tr>\n",
       "    <tr>\n",
       "      <th>1</th>\n",
       "      <td>Wetpaint</td>\n",
       "      <td>{'description': '', 'address1': '710 - 2nd Ave...</td>\n",
       "    </tr>\n",
       "    <tr>\n",
       "      <th>1</th>\n",
       "      <td>Wetpaint</td>\n",
       "      <td>{'description': '', 'address1': '270 Lafayette...</td>\n",
       "    </tr>\n",
       "    <tr>\n",
       "      <th>2</th>\n",
       "      <td>Zoho</td>\n",
       "      <td>{'description': 'Headquarters', 'address1': '4...</td>\n",
       "    </tr>\n",
       "    <tr>\n",
       "      <th>3</th>\n",
       "      <td>Omnidrive</td>\n",
       "      <td>{'description': '', 'address1': 'Suite 200', '...</td>\n",
       "    </tr>\n",
       "    <tr>\n",
       "      <th>...</th>\n",
       "      <td>...</td>\n",
       "      <td>...</td>\n",
       "    </tr>\n",
       "    <tr>\n",
       "      <th>12985</th>\n",
       "      <td>Oriact</td>\n",
       "      <td>{'description': '', 'address1': 'LÃ¤rchenweg 7...</td>\n",
       "    </tr>\n",
       "    <tr>\n",
       "      <th>12986</th>\n",
       "      <td>Adhunk</td>\n",
       "      <td>{'description': 'Indian Office', 'address1': '...</td>\n",
       "    </tr>\n",
       "    <tr>\n",
       "      <th>12987</th>\n",
       "      <td>AfterLogic</td>\n",
       "      <td>{'description': 'Livingston', 'address1': 'P.O...</td>\n",
       "    </tr>\n",
       "    <tr>\n",
       "      <th>12988</th>\n",
       "      <td>Contemporary Computer Services</td>\n",
       "      <td>{'description': '', 'address1': '200 Knickerbo...</td>\n",
       "    </tr>\n",
       "    <tr>\n",
       "      <th>12989</th>\n",
       "      <td>EnteGreat</td>\n",
       "      <td>{'description': '', 'address1': '1900 Internat...</td>\n",
       "    </tr>\n",
       "  </tbody>\n",
       "</table>\n",
       "<p>15764 rows × 2 columns</p>\n",
       "</div>"
      ],
      "text/plain": [
       "                                 name  \\\n",
       "0                           AdventNet   \n",
       "1                            Wetpaint   \n",
       "1                            Wetpaint   \n",
       "2                                Zoho   \n",
       "3                           Omnidrive   \n",
       "...                               ...   \n",
       "12985                          Oriact   \n",
       "12986                          Adhunk   \n",
       "12987                      AfterLogic   \n",
       "12988  Contemporary Computer Services   \n",
       "12989                       EnteGreat   \n",
       "\n",
       "                                                 offices  \n",
       "0      {'description': 'Headquarters', 'address1': '4...  \n",
       "1      {'description': '', 'address1': '710 - 2nd Ave...  \n",
       "1      {'description': '', 'address1': '270 Lafayette...  \n",
       "2      {'description': 'Headquarters', 'address1': '4...  \n",
       "3      {'description': '', 'address1': 'Suite 200', '...  \n",
       "...                                                  ...  \n",
       "12985  {'description': '', 'address1': 'LÃ¤rchenweg 7...  \n",
       "12986  {'description': 'Indian Office', 'address1': '...  \n",
       "12987  {'description': 'Livingston', 'address1': 'P.O...  \n",
       "12988  {'description': '', 'address1': '200 Knickerbo...  \n",
       "12989  {'description': '', 'address1': '1900 Internat...  \n",
       "\n",
       "[15764 rows x 2 columns]"
      ]
     },
     "execution_count": 19,
     "metadata": {},
     "output_type": "execute_result"
    }
   ],
   "source": [
    "# Query for getting the founded year\n",
    "query={\"founded_year\":{\"$lt\":2010}}\n",
    "\n",
    "old=list(db.companies.find(query,{\"name\":1,\"offices\":1,\"_id\":0}))\n",
    "old=pd.DataFrame(old)\n",
    "old=old.explode(\"offices\") # several offices\n",
    "old"
   ]
  },
  {
   "cell_type": "code",
   "execution_count": 20,
   "metadata": {},
   "outputs": [
    {
     "data": {
      "text/plain": [
       "success               9039\n",
       "theres is no data     6725\n",
       "Name: State_coor, dtype: int64"
      ]
     },
     "execution_count": 20,
     "metadata": {},
     "output_type": "execute_result"
    }
   ],
   "source": [
    "old=old.apply(json_column, axis=1, result_type='expand')\n",
    "old=old.rename(columns={0:'name',1:'State_coor',2:'latitude',3:'longitud'} )\n",
    "old.State_coor.value_counts()"
   ]
  },
  {
   "cell_type": "code",
   "execution_count": 21,
   "metadata": {},
   "outputs": [
    {
     "data": {
      "text/plain": [
       "Index(['name', 'State_coor', 'latitude', 'longitud'], dtype='object')"
      ]
     },
     "execution_count": 21,
     "metadata": {},
     "output_type": "execute_result"
    }
   ],
   "source": [
    "old=old.loc[old.State_coor==\"success\"]\n",
    "# --> 9039 points of old companies (<2010!!)\n",
    "old.columns"
   ]
  },
  {
   "cell_type": "code",
   "execution_count": 22,
   "metadata": {},
   "outputs": [],
   "source": [
    "# Setting the format for MongoDB index and export it\n",
    "old['success_coor']=old.apply(coor_jgeo,axis=1)\n",
    "old.to_json('output/old.json',orient=\"records\")"
   ]
  },
  {
   "cell_type": "markdown",
   "metadata": {},
   "source": [
    "## Importing from API google maps"
   ]
  },
  {
   "cell_type": "code",
   "execution_count": 23,
   "metadata": {},
   "outputs": [],
   "source": [
    "import requests \n",
    "import json\n",
    "import os \n",
    "\n",
    "from dotenv import load_dotenv\n",
    "load_dotenv()\n",
    "import sys\n",
    "sys.path.insert(0, 'src/')\n",
    "import apiquery # module with the db data"
   ]
  },
  {
   "cell_type": "markdown",
   "metadata": {},
   "source": [
    "##### --> Cities to import \n",
    "\n",
    "We are going to limit the search to specific cities:\n",
    "\n",
    "* Madrid (40.416977, -3.703827)\n",
    "* New York (40.7142715 ,-74.0059662)\n",
    "* Berlin (52.5243683, 13.4105301)\n",
    "* Seatle (47.6062088, -122.3320694)"
   ]
  },
  {
   "cell_type": "code",
   "execution_count": 24,
   "metadata": {},
   "outputs": [
    {
     "data": {
      "text/plain": [
       "True"
      ]
     },
     "execution_count": 24,
     "metadata": {},
     "output_type": "execute_result"
    }
   ],
   "source": [
    "apiquery.genera_bd() # <-- Función que consulta el API de google y crea archivos locales para consulta"
   ]
  },
  {
   "cell_type": "code",
   "execution_count": 1,
   "metadata": {
    "scrolled": false
   },
   "outputs": [
    {
     "data": {
      "text/plain": [
       "0.9815641667837387"
      ]
     },
     "execution_count": 1,
     "metadata": {},
     "output_type": "execute_result"
    }
   ],
   "source": [
    "# The research is by city:\n",
    "import sys\n",
    "sys.path.insert(0, 'src/')\n",
    "import research_mad\n",
    "\n",
    "point_madrid=(40.416977, -3.703827)\n",
    "point_sevilla=(37.3828300,-5.9731700)\n",
    "#research_mad.val_design(point_madrid)\n",
    "#research_mad.val_succ(point_sevilla)\n",
    "\n",
    "research_mad.val_old(point_sevilla)\n",
    "\n",
    "#Val_by_place={\"other Design companies\":val_design_madrid(point_madrid),\n",
    "#         \"kindergarden\":val_kindergarden_madrid(point_madrid),\n",
    "#         \"success startup\":val_succ_madrid(point_madrid),\n",
    "#         \"Starbucks\":val_starbucks_madrid(point_madrid),\n",
    "#         \"Airport_or_train_station\":val_airport_madrid(point_madrid),\n",
    "#         \"place_to party\":val_party_madrid(point_madrid),\n",
    "#         \"basqueball court\":val_basquet_madrid(point_madrid),\n",
    "#         \"no_2km_old_company\":val_old_madrid(point_madrid),\n",
    "#         \"vegan_restaurant\":val_vegetariano_madrid(point_madrid)}\n"
   ]
  },
  {
   "cell_type": "code",
   "execution_count": 2,
   "metadata": {},
   "outputs": [
    {
     "data": {
      "text/plain": [
       "1818068.5111826349"
      ]
     },
     "execution_count": 2,
     "metadata": {},
     "output_type": "execute_result"
    }
   ],
   "source": [
    "research_mad.f_haversine(point_sevilla,point_madrid)"
   ]
  }
 ],
 "metadata": {
  "kernelspec": {
   "display_name": "Python 3",
   "language": "python",
   "name": "python3"
  },
  "language_info": {
   "codemirror_mode": {
    "name": "ipython",
    "version": 3
   },
   "file_extension": ".py",
   "mimetype": "text/x-python",
   "name": "python",
   "nbconvert_exporter": "python",
   "pygments_lexer": "ipython3",
   "version": "3.6.9"
  }
 },
 "nbformat": 4,
 "nbformat_minor": 2
}
